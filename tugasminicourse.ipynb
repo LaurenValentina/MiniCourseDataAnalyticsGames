{
 "cells": [
  {
   "cell_type": "code",
   "execution_count": 37,
   "id": "6fbe1a67",
   "metadata": {},
   "outputs": [],
   "source": [
    "import pandas as pd\n",
    "import numpy as np\n",
    "import matplotlib.pyplot as plt\n",
    "import seaborn as ans"
   ]
  },
  {
   "cell_type": "code",
   "execution_count": 51,
   "id": "59cb1300",
   "metadata": {},
   "outputs": [],
   "source": [
    "df = pd.read_csv('Games Sales - Case Study - Games (1).csv')\n",
    "df_cleaned = df.copy()"
   ]
  },
  {
   "cell_type": "code",
   "execution_count": 52,
   "id": "ce09c8bc",
   "metadata": {},
   "outputs": [
    {
     "name": "stdout",
     "output_type": "stream",
     "text": [
      "<class 'pandas.core.frame.DataFrame'>\n",
      "RangeIndex: 177 entries, 0 to 176\n",
      "Data columns (total 7 columns):\n",
      " #   Column     Non-Null Count  Dtype  \n",
      "---  ------     --------------  -----  \n",
      " 0   Name       177 non-null    object \n",
      " 1   Sales      177 non-null    float64\n",
      " 2   Series     141 non-null    object \n",
      " 3   Release    177 non-null    object \n",
      " 4   Genre      177 non-null    object \n",
      " 5   Developer  177 non-null    object \n",
      " 6   Publisher  177 non-null    object \n",
      "dtypes: float64(1), object(6)\n",
      "memory usage: 9.8+ KB\n"
     ]
    }
   ],
   "source": [
    "df.info()"
   ]
  },
  {
   "cell_type": "code",
   "execution_count": 53,
   "id": "8d05a3d7",
   "metadata": {},
   "outputs": [
    {
     "data": {
      "text/plain": [
       "Index(['Name', 'Sales', 'Series', 'Release', 'Genre', 'Developer',\n",
       "       'Publisher'],\n",
       "      dtype='object')"
      ]
     },
     "execution_count": 53,
     "metadata": {},
     "output_type": "execute_result"
    }
   ],
   "source": [
    "df.columns"
   ]
  },
  {
   "cell_type": "code",
   "execution_count": 8,
   "id": "0036d598",
   "metadata": {},
   "outputs": [
    {
     "name": "stdout",
     "output_type": "stream",
     "text": [
      "Jumlah Data: 177\n"
     ]
    }
   ],
   "source": [
    "jumlahdata = df.shape[0]\n",
    "print(\"Jumlah Data:\", jumlahdata)"
   ]
  },
  {
   "cell_type": "code",
   "execution_count": 57,
   "id": "b0db679d",
   "metadata": {},
   "outputs": [
    {
     "name": "stdout",
     "output_type": "stream",
     "text": [
      "<class 'pandas.core.frame.DataFrame'>\n",
      "Int64Index: 141 entries, 1 to 176\n",
      "Data columns (total 7 columns):\n",
      " #   Column     Non-Null Count  Dtype         \n",
      "---  ------     --------------  -----         \n",
      " 0   Name       141 non-null    object        \n",
      " 1   Sales      141 non-null    float64       \n",
      " 2   Series     141 non-null    object        \n",
      " 3   Release    141 non-null    datetime64[ns]\n",
      " 4   Genre      141 non-null    object        \n",
      " 5   Developer  141 non-null    object        \n",
      " 6   Publisher  141 non-null    object        \n",
      "dtypes: datetime64[ns](1), float64(1), object(5)\n",
      "memory usage: 8.8+ KB\n",
      "None\n"
     ]
    },
    {
     "name": "stderr",
     "output_type": "stream",
     "text": [
      "C:\\Users\\LAUREN VALENTINA\\AppData\\Local\\Temp\\ipykernel_10260\\1275486221.py:7: SettingWithCopyWarning: \n",
      "A value is trying to be set on a copy of a slice from a DataFrame.\n",
      "Try using .loc[row_indexer,col_indexer] = value instead\n",
      "\n",
      "See the caveats in the documentation: https://pandas.pydata.org/pandas-docs/stable/user_guide/indexing.html#returning-a-view-versus-a-copy\n",
      "  df_cleaned['Release'] = pd.to_datetime(df_cleaned['Release'])\n"
     ]
    },
    {
     "data": {
      "text/html": [
       "<div>\n",
       "<style scoped>\n",
       "    .dataframe tbody tr th:only-of-type {\n",
       "        vertical-align: middle;\n",
       "    }\n",
       "\n",
       "    .dataframe tbody tr th {\n",
       "        vertical-align: top;\n",
       "    }\n",
       "\n",
       "    .dataframe thead th {\n",
       "        text-align: right;\n",
       "    }\n",
       "</style>\n",
       "<table border=\"1\" class=\"dataframe\">\n",
       "  <thead>\n",
       "    <tr style=\"text-align: right;\">\n",
       "      <th></th>\n",
       "      <th>Name</th>\n",
       "      <th>Sales</th>\n",
       "      <th>Series</th>\n",
       "      <th>Release</th>\n",
       "      <th>Genre</th>\n",
       "      <th>Developer</th>\n",
       "      <th>Publisher</th>\n",
       "    </tr>\n",
       "  </thead>\n",
       "  <tbody>\n",
       "    <tr>\n",
       "      <th>1</th>\n",
       "      <td>Minecraft</td>\n",
       "      <td>33.0</td>\n",
       "      <td>Minecraft</td>\n",
       "      <td>2011-11-01</td>\n",
       "      <td>Sandbox, survival</td>\n",
       "      <td>Mojang Studios</td>\n",
       "      <td>Mojang Studios</td>\n",
       "    </tr>\n",
       "    <tr>\n",
       "      <th>2</th>\n",
       "      <td>Diablo III</td>\n",
       "      <td>20.0</td>\n",
       "      <td>Diablo</td>\n",
       "      <td>2012-05-01</td>\n",
       "      <td>Action role-playing</td>\n",
       "      <td>Blizzard Entertainment</td>\n",
       "      <td>Blizzard Entertainment</td>\n",
       "    </tr>\n",
       "    <tr>\n",
       "      <th>5</th>\n",
       "      <td>World of Warcraft</td>\n",
       "      <td>14.0</td>\n",
       "      <td>Warcraft</td>\n",
       "      <td>2004-11-01</td>\n",
       "      <td>MMORPG</td>\n",
       "      <td>Blizzard Entertainment</td>\n",
       "      <td>Blizzard Entertainment</td>\n",
       "    </tr>\n",
       "    <tr>\n",
       "      <th>6</th>\n",
       "      <td>Half-Life 2</td>\n",
       "      <td>12.0</td>\n",
       "      <td>Half-Life</td>\n",
       "      <td>2004-11-01</td>\n",
       "      <td>First-person shooter</td>\n",
       "      <td>Valve</td>\n",
       "      <td>Valve (digital)</td>\n",
       "    </tr>\n",
       "    <tr>\n",
       "      <th>7</th>\n",
       "      <td>The Witcher 3: Wild Hunt</td>\n",
       "      <td>12.0</td>\n",
       "      <td>The Witcher</td>\n",
       "      <td>2015-05-01</td>\n",
       "      <td>Action role-playing</td>\n",
       "      <td>CD Projekt Red</td>\n",
       "      <td>CD Projekt</td>\n",
       "    </tr>\n",
       "  </tbody>\n",
       "</table>\n",
       "</div>"
      ],
      "text/plain": [
       "                       Name  Sales       Series    Release  \\\n",
       "1                 Minecraft   33.0    Minecraft 2011-11-01   \n",
       "2                Diablo III   20.0       Diablo 2012-05-01   \n",
       "5         World of Warcraft   14.0     Warcraft 2004-11-01   \n",
       "6               Half-Life 2   12.0    Half-Life 2004-11-01   \n",
       "7  The Witcher 3: Wild Hunt   12.0  The Witcher 2015-05-01   \n",
       "\n",
       "                  Genre               Developer               Publisher  \n",
       "1     Sandbox, survival          Mojang Studios          Mojang Studios  \n",
       "2   Action role-playing  Blizzard Entertainment  Blizzard Entertainment  \n",
       "5                MMORPG  Blizzard Entertainment  Blizzard Entertainment  \n",
       "6  First-person shooter                   Valve         Valve (digital)  \n",
       "7   Action role-playing          CD Projekt Red              CD Projekt  "
      ]
     },
     "execution_count": 57,
     "metadata": {},
     "output_type": "execute_result"
    }
   ],
   "source": [
    "#change type data\n",
    "df_cleaned = df\n",
    "\n",
    "# Menghapus baris dengan nilai kosong pada kolom 'Series'\n",
    "df_cleaned = df_cleaned.dropna(subset=['Series'])\n",
    "\n",
    "df_cleaned['Release'] = pd.to_datetime(df_cleaned['Release'])\n",
    "\n",
    "print(df_cleaned.info())\n",
    "df_cleaned.head()"
   ]
  },
  {
   "cell_type": "code",
   "execution_count": 58,
   "id": "75e21d52",
   "metadata": {},
   "outputs": [
    {
     "data": {
      "image/png": "[encoded data removed]",
      "text/plain": [
       "<Figure size 640x480 with 1 Axes>"
      ]
     },
     "metadata": {},
     "output_type": "display_data"
    },
    {
     "name": "stdout",
     "output_type": "stream",
     "text": [
      "\n",
      "Kolom Release:\n",
      "1     2011-11-01\n",
      "2     2012-05-01\n",
      "5     2004-11-01\n",
      "6     2004-11-01\n",
      "7     2015-05-01\n",
      "         ...    \n",
      "171   2008-09-01\n",
      "173   1994-12-01\n",
      "174   2001-10-01\n",
      "175   2013-03-01\n",
      "176   2015-11-01\n",
      "Name: Release, Length: 141, dtype: datetime64[ns]\n"
     ]
    }
   ],
   "source": [
    "# Menampilkan grafik tren rilis game\n",
    "tren = df_cleaned.groupby(df_cleaned['Release'].dt.year)['Name'].count()\n",
    "plt.plot(tren.index, tren.values, marker='o')\n",
    "plt.title('Tren Rilis Game')\n",
    "plt.xlabel('Tahun Rilis')\n",
    "plt.ylabel('Jumlah Game')\n",
    "plt.show()\n",
    "\n",
    "# Menampilkan kolom 'Release'\n",
    "print(\"\\nKolom Release:\")\n",
    "print(df_cleaned['Release'])\n",
    "\n",
    "# Sisanya adalah kode yang sama seperti yang Anda berikan sebelumnya untuk analisis data\n"
   ]
  },
  {
   "cell_type": "code",
   "execution_count": 59,
   "id": "06703d7e",
   "metadata": {},
   "outputs": [
    {
     "name": "stdout",
     "output_type": "stream",
     "text": [
      "Data Game Tertua:\n",
      "        Name  Sales   Series    Release                Genre  \\\n",
      "133  Hydlide    1.0  Hydlide 1984-12-01  Action role-playing   \n",
      "\n",
      "                                 Developer  \\\n",
      "133  Technology and Entertainment Software   \n",
      "\n",
      "                                 Publisher  \n",
      "133  Technology and Entertainment Software  \n"
     ]
    }
   ],
   "source": [
    "# games tertua\n",
    "oldest_game = df_cleaned[df_cleaned['Release'] == df_cleaned['Release'].min()]\n",
    "print(\"Data Game Tertua:\")\n",
    "print(oldest_game)\n"
   ]
  },
  {
   "cell_type": "code",
   "execution_count": 60,
   "id": "50d255c1",
   "metadata": {},
   "outputs": [
    {
     "name": "stdout",
     "output_type": "stream",
     "text": [
      "Data Game Terbaru:\n",
      "                   Name  Sales          Series    Release           Genre  \\\n",
      "110  Crusader Kings III    1.0  Crusader Kings 2020-09-01  Grand strategy   \n",
      "\n",
      "                      Developer            Publisher  \n",
      "110  Paradox Development Studio  Paradox Interactive  \n"
     ]
    }
   ],
   "source": [
    "# game termuda\n",
    "newest_game = df_cleaned[df_cleaned['Release'] == df_cleaned['Release'].max()]\n",
    "print(\"Data Game Terbaru:\")\n",
    "print(newest_game)\n"
   ]
  },
  {
   "cell_type": "code",
   "execution_count": 61,
   "id": "ef714439",
   "metadata": {},
   "outputs": [
    {
     "name": "stdout",
     "output_type": "stream",
     "text": [
      "Penerbit dengan Sebagian Besar Game:\n",
      "Electronic Arts\n"
     ]
    }
   ],
   "source": [
    "# publisher trebanyak\n",
    "most_common_publisher = df_cleaned['Publisher'].value_counts().idxmax()\n",
    "print(\"Penerbit dengan Sebagian Besar Game:\")\n",
    "print(most_common_publisher)\n"
   ]
  },
  {
   "cell_type": "code",
   "execution_count": 62,
   "id": "74532413",
   "metadata": {},
   "outputs": [
    {
     "name": "stdout",
     "output_type": "stream",
     "text": [
      "Pengembang dengan Sebagian Besar Game:\n",
      "Blizzard Entertainment\n"
     ]
    }
   ],
   "source": [
    "# developer \n",
    "most_common_developer = df_cleaned['Developer'].value_counts().idxmax()\n",
    "print(\"Pengembang dengan Sebagian Besar Game:\")\n",
    "print(most_common_developer)\n"
   ]
  },
  {
   "cell_type": "code",
   "execution_count": 63,
   "id": "486fcf91",
   "metadata": {},
   "outputs": [
    {
     "name": "stdout",
     "output_type": "stream",
     "text": [
      "Seri dengan Penjualan Terbanyak:\n",
      "Minecraft\n"
     ]
    }
   ],
   "source": [
    "best_selling_series = df_cleaned.loc[df_cleaned['Sales'].idxmax()]['Series']\n",
    "print(\"Seri dengan Penjualan Terbanyak:\")\n",
    "print(best_selling_series)\n"
   ]
  },
  {
   "cell_type": "code",
   "execution_count": 64,
   "id": "cb0c5e24",
   "metadata": {},
   "outputs": [
    {
     "name": "stdout",
     "output_type": "stream",
     "text": [
      "Seri dengan Jumlah Game Terbanyak:\n",
      "StarCraft\n"
     ]
    }
   ],
   "source": [
    "most_prolific_series = df_cleaned['Series'].value_counts().idxmax()\n",
    "print(\"Seri dengan Jumlah Game Terbanyak:\")\n",
    "print(most_prolific_series)"
   ]
  }
 ],
 "metadata": {
  "kernelspec": {
   "display_name": "Python 3 (ipykernel)",
   "language": "python",
   "name": "python3"
  },
  "language_info": {
   "codemirror_mode": {
    "name": "ipython",
    "version": 3
   },
   "file_extension": ".py",
   "mimetype": "text/x-python",
   "name": "python",
   "nbconvert_exporter": "python",
   "pygments_lexer": "ipython3",
   "version": "3.11.3"
  }
 },
 "nbformat": 4,
 "nbformat_minor": 5
}
